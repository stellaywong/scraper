{
  "nbformat": 4,
  "nbformat_minor": 0,
  "metadata": {
    "colab": {
      "provenance": [],
      "toc_visible": true
    },
    "kernelspec": {
      "name": "python3",
      "display_name": "Python 3"
    },
    "language_info": {
      "name": "python"
    }
  },
  "cells": [
    {
      "cell_type": "markdown",
      "source": [
        "# 1. import libraries"
      ],
      "metadata": {
        "id": "7VxzS31AmQNK"
      }
    },
    {
      "cell_type": "code",
      "execution_count": 24,
      "metadata": {
        "id": "SKZO1m0aJKW2"
      },
      "outputs": [],
      "source": [
        "from datetime import date, timedelta                    # look for posts from each day\n",
        "import requests                                         # send HTTP requests to get HTML from webpages\n",
        "from bs4 import BeautifulSoup                           # search HTML from webpages\n",
        "from time import sleep                                  # give the server a pause between requests\n",
        "import pandas as pd                                     # convert data into dataframe\n",
        "from google.colab import files                          # download csv file\n",
        "%matplotlib inline\n",
        "import matplotlib.pyplot as plt                         # create scatterplot\n",
        "import seaborn as sns                                   # create scatterplot\n",
        "import numpy as np                                      # create histogram"
      ]
    },
    {
      "cell_type": "markdown",
      "source": [
        "# 2. scrape data"
      ],
      "metadata": {
        "id": "rKyLKLOHmaXM"
      }
    },
    {
      "cell_type": "markdown",
      "source": [
        "### initialize lists"
      ],
      "metadata": {
        "id": "wlBTpIghpQYJ"
      }
    },
    {
      "cell_type": "code",
      "source": [
        "# loop through dates to create all initial urls for the last year\n",
        "dates = []\n",
        "\n",
        "# loop through urls to create array of all posts per day, for the last year\n",
        "urls_list = []"
      ],
      "metadata": {
        "id": "4VhVP18MJrIV"
      },
      "execution_count": 2,
      "outputs": []
    },
    {
      "cell_type": "markdown",
      "source": [
        "### find the url for our data from the following website: https://statmodeling.stat.columbia.edu/"
      ],
      "metadata": {
        "id": "wSrXXC8VpZCj"
      }
    },
    {
      "cell_type": "code",
      "source": [
        "url = \"https://statmodeling.stat.columbia.edu/\"\n",
        "\n",
        "year = input(\"Enter your year: \")\n",
        "year = int(float(year))\n",
        "\n",
        "start_date = date(year, 1, 1)                           # set first day of the desired time period\n",
        "end_date = date(year, 12, 31)                           # set last day of the desired time period\n",
        "\n",
        "delta = end_date-start_date                             # 365 days\n",
        "\n",
        "for i in range(delta.days+1):                           # range(0, 365)\n",
        "  day = start_date + timedelta(days=i)                  # 2021-01-01, 2021-01-02, 2021-01-03\n",
        "  date_string = day.strftime(\"%Y/%m/%d\")                # convert to 2021/01/01, 2021/01/02, 2021/01/03\n",
        "  dates.append(date_string)\n",
        "\n",
        "for date in dates:\n",
        "  initial_url = url + date                              # https://statmodeling.stat.columbia.edu/2021/01/01\n",
        "  urls_list.append(initial_url)                         # ['https://statmodeling.stat.columbia.edu/2021/01/01, ]"
      ],
      "metadata": {
        "id": "njfY_aXiKC12",
        "colab": {
          "base_uri": "https://localhost:8080/"
        },
        "outputId": "9c09ba50-8cd4-4bff-fb7c-0120adbc85be"
      },
      "execution_count": 25,
      "outputs": [
        {
          "output_type": "stream",
          "name": "stdout",
          "text": [
            "Enter your year: 2023\n",
            "2023\n"
          ]
        }
      ]
    },
    {
      "cell_type": "markdown",
      "source": [
        "### collect names of commenters, comment counts, unique number of commenters per post"
      ],
      "metadata": {
        "id": "qeDmf5Olpbjc"
      }
    },
    {
      "cell_type": "code",
      "source": [
        "# create a dictionary to store all commenter names and counts for one post\n",
        "commenters = {}\n",
        "# create a list to store post title, post date, unique commenter count, and URL\n",
        "unique_commenters = []\n",
        "\n",
        "def count(all_comments, title, date, url):\n",
        "  # create a dictionary that tracks unique commenters\n",
        "  unique_commenters_for_one_post = {}\n",
        "\n",
        "  for comment in all_comments:\n",
        "    # find the commenter's name\n",
        "    commenter_name = comment.find(\"span\", {\"class\": \"fn\"}).text\n",
        "                                                        # looks inside <span class=\"fn\"><a class=\"url\" href=\"https://twitter.com/JaneSmith\" rel=\"external nofollow ugc\">Jane Smith</a></span>\n",
        "                                                        # for Jane Smith\n",
        "\n",
        "    if commenter_name in unique_commenters_for_one_post:\n",
        "      unique_commenters_for_one_post[commenter_name] += 1\n",
        "    else:\n",
        "      unique_commenters_for_one_post[commenter_name] = 1\n",
        "                                                        # { 'Jane Smith': 1, 'Jane Doe': 2, }\n",
        "\n",
        "  unique_commenters.append([\n",
        "                            title,                      # What we did in 2020, and thanks to all our collaborators and many more\n",
        "                            date,                       # 2021-01-01T09:00:09-05:00\n",
        "                            len(unique_commenters_for_one_post.keys()),\n",
        "                                                        # how many unique commenters there were on this post: 12\n",
        "                            url                         # 'https://statmodeling.stat.columbia.edu/2021/01/01/what-we-did-in-2020/#comments'\n",
        "                            ])\n",
        "\n",
        "  commenters[url] = unique_commenters_for_one_post\n",
        "  # print(commenters)\n",
        "                                                        # { {'Jane Smith': 1, 'Jane Doe': 2, } }\n",
        "\n",
        "def get_data_from_post(all_posts):\n",
        "  for post in all_posts:\n",
        "    # grab the actual link(s) for all post(s) made on one day\n",
        "    url_we_want = post.find(\"a\").get(\"href\")            # https://statmodeling.stat.columbia.edu/2021/01/01/what-we-did-in-2020/#comments\n",
        "\n",
        "    # grab one post's content\n",
        "    url_we_want_get = requests.get(url_we_want, headers = headers)\n",
        "    one_post_html= BeautifulSoup(url_we_want_get.text, \"html.parser\")\n",
        "\n",
        "    # grab the post's title, date, and comments\n",
        "    post_title = one_post_html.find(\"h1\", {\"class\": \"entry-title\"}).text\n",
        "\n",
        "    post_date = one_post_html.find(\"time\", {\"class\": \"entry-date\"}).get(\"datetime\")[0:10]\n",
        "                                                        # 2021-01-01\n",
        "\n",
        "    # find all the comment(s) for one post\n",
        "    all_comments_one_post = one_post_html.findAll(\"div\", {\"class\": \"comment-author vcard\"})\n",
        "                                                        # [<div class=\"comment-author vcard\">\n",
        "                                                        # <img alt=\"\" class=\"avatar avatar-68 photo\" height=\"68\" loading=\"lazy\" src=\"https://secure.gravatar.com/avatar/4ca887fa9f168857d43ef5eb3c636296?s=68&amp;d=mm&amp;r=g\" srcset=\"https://secure.gravatar.com/avatar/4ca887fa9f168857d43ef5eb3c636296?s=136&amp;d=mm&amp;r=g 2x\" width=\"68\"/><span class=\"fn\"><a class=\"url\" href=\"https://twitter.com/JaneSmith\" rel=\"external nofollow ugc\">Jane Smith</a></span> on <a href=\"https://statmodeling.stat.columbia.edu/2021/01/01/what-we-did-in-2020/#comment-1630101\"><time datetime=\"2021-01-01T09:16:18-05:00\">January 1, 2021 9:16 AM at 9:16 am</time></a> <span class=\"says\">said:</span>\n",
        "                                                        # </div>, <div class=\"comment-author vcard\">\n",
        "\n",
        "    count(all_comments_one_post, post_title, post_date, url_we_want)\n",
        "\n",
        "# check every day of the year with a potential post\n",
        "for url in urls_list:\n",
        "  # to avoid the error message from the site. Change if you're not using Chrome.\n",
        "  headers = {\n",
        "      \"user-agent\": \"Chrome/88.0.4324.182\"\n",
        "      }\n",
        "  site_get = requests.get(url, headers = headers)\n",
        "  # sleep(0.5)                                          # x-second pause between requests\n",
        "  site_html= BeautifulSoup(site_get.text, \"html.parser\")\n",
        "\n",
        "  # find the comment button(s) for all post(s) made on one day\n",
        "  all_post_urls= site_html.findAll(\"span\", {\"class\":\"comments-link\"})\n",
        "                                                        # [<span class=\"comments-link\"><a href=\"https://statmodeling.stat.columbia.edu/2021/01/05/authors-retract-the-nature-communications-paper-on-female-mentors/#comments\"><b>15</b> Replies</a></span>, ]\n",
        "  get_data_from_post(all_post_urls)\n"
      ],
      "metadata": {
        "id": "hAqkHlvBL8Sy"
      },
      "execution_count": 4,
      "outputs": []
    },
    {
      "cell_type": "markdown",
      "source": [
        "# 3. create csvs"
      ],
      "metadata": {
        "id": "dblmw7D_miJf"
      }
    },
    {
      "cell_type": "code",
      "source": [
        "def convert_to_csv_and_download(dataframe, csv_file):\n",
        "  # convert to csv\n",
        "  with open(csv_file, 'w') as f:\n",
        "    dataframe.to_csv(\n",
        "      f,\n",
        "      header = True,\n",
        "      index=False\n",
        "      )\n",
        "\n",
        "  # download the csv\n",
        "  files.download(csv_file)"
      ],
      "metadata": {
        "id": "KAF6TNf5-F9o"
      },
      "execution_count": 26,
      "outputs": []
    },
    {
      "cell_type": "code",
      "source": [
        "# create first csv\n",
        "\n",
        "# convert to a pandas dataframe\n",
        "unique_commenters_df = pd.DataFrame(\n",
        "  unique_commenters,\n",
        "  columns= [\n",
        "            \"Post Title\",\n",
        "            \"Post Date\",\n",
        "            \"Unique Commenters\",\n",
        "            \"URL\"\n",
        "            ])\n",
        "\n",
        "# use the year to title your csv file\n",
        "file_title = str(year) + '_blog.csv'\n",
        "convert_to_csv_and_download(unique_commenters_df, file_title)"
      ],
      "metadata": {
        "id": "aJmYvQg7i6nv",
        "colab": {
          "base_uri": "https://localhost:8080/",
          "height": 17
        },
        "outputId": "9732534c-4aaf-4c1a-95ef-d3af9c42b357"
      },
      "execution_count": 27,
      "outputs": [
        {
          "output_type": "display_data",
          "data": {
            "text/plain": [
              "<IPython.core.display.Javascript object>"
            ],
            "application/javascript": [
              "\n",
              "    async function download(id, filename, size) {\n",
              "      if (!google.colab.kernel.accessAllowed) {\n",
              "        return;\n",
              "      }\n",
              "      const div = document.createElement('div');\n",
              "      const label = document.createElement('label');\n",
              "      label.textContent = `Downloading \"${filename}\": `;\n",
              "      div.appendChild(label);\n",
              "      const progress = document.createElement('progress');\n",
              "      progress.max = size;\n",
              "      div.appendChild(progress);\n",
              "      document.body.appendChild(div);\n",
              "\n",
              "      const buffers = [];\n",
              "      let downloaded = 0;\n",
              "\n",
              "      const channel = await google.colab.kernel.comms.open(id);\n",
              "      // Send a message to notify the kernel that we're ready.\n",
              "      channel.send({})\n",
              "\n",
              "      for await (const message of channel.messages) {\n",
              "        // Send a message to notify the kernel that we're ready.\n",
              "        channel.send({})\n",
              "        if (message.buffers) {\n",
              "          for (const buffer of message.buffers) {\n",
              "            buffers.push(buffer);\n",
              "            downloaded += buffer.byteLength;\n",
              "            progress.value = downloaded;\n",
              "          }\n",
              "        }\n",
              "      }\n",
              "      const blob = new Blob(buffers, {type: 'application/binary'});\n",
              "      const a = document.createElement('a');\n",
              "      a.href = window.URL.createObjectURL(blob);\n",
              "      a.download = filename;\n",
              "      div.appendChild(a);\n",
              "      a.click();\n",
              "      div.remove();\n",
              "    }\n",
              "  "
            ]
          },
          "metadata": {}
        },
        {
          "output_type": "display_data",
          "data": {
            "text/plain": [
              "<IPython.core.display.Javascript object>"
            ],
            "application/javascript": [
              "download(\"download_c4db8fa5-fafb-4321-aed0-77f70de9573a\", \"2023_blog.csv\", 115531)"
            ]
          },
          "metadata": {}
        }
      ]
    },
    {
      "cell_type": "code",
      "source": [
        "# create a dictionary for the commenter's total response rate\n",
        "total_comments = {}\n",
        "\n",
        "# create a dictionary for the number of distinct posts the commenter wrote on\n",
        "unique_posts = {}\n",
        "\n",
        "all_commenters = []\n",
        "\n",
        "for commenters_dict in commenters.values():\n",
        "  for commenter in commenters_dict.keys():\n",
        "\n",
        "    # { 'Jane Smith': 286, 'Jane Doe': 1089, }\n",
        "    if commenter in total_comments:\n",
        "        total_comments[commenter] += commenters_dict[commenter]\n",
        "    else:\n",
        "        total_comments[commenter] = commenters_dict[commenter]\n",
        "\n",
        "    # { 'Jane Smith': 88, 'Jane Doe': 162, }\n",
        "    if commenter in unique_posts:\n",
        "        unique_posts[commenter] += 1\n",
        "    else:\n",
        "        unique_posts[commenter] = 1\n",
        "\n",
        "for commenter in total_comments.keys():\n",
        "  all_commenters.append([\n",
        "                      commenter,                        # Jane Smith\n",
        "                      total_comments[commenter],        # 286\n",
        "                      unique_posts[commenter]           # 88\n",
        "                      ])"
      ],
      "metadata": {
        "id": "YwgnRbfKkTpN"
      },
      "execution_count": 28,
      "outputs": []
    },
    {
      "cell_type": "code",
      "source": [
        "# create second csv\n",
        "\n",
        "# convert to a pandas dataframe\n",
        "commenters_df = pd.DataFrame(\n",
        "  all_commenters,\n",
        "  columns= [\n",
        "            \"Commenter\",\n",
        "            \"Total Response Rate\",\n",
        "            \"Number of Posts\"\n",
        "            ])\n",
        "\n",
        "# set the year to title your csv file\n",
        "csv_file = str(year) + '_commenters.csv'\n",
        "\n",
        "convert_to_csv_and_download(commenters_df, csv_file)"
      ],
      "metadata": {
        "colab": {
          "base_uri": "https://localhost:8080/",
          "height": 17
        },
        "id": "do0TL-0pmLx0",
        "outputId": "a78e8f16-2b2b-46a3-d1e5-a4df8de3681f"
      },
      "execution_count": 30,
      "outputs": [
        {
          "output_type": "display_data",
          "data": {
            "text/plain": [
              "<IPython.core.display.Javascript object>"
            ],
            "application/javascript": [
              "\n",
              "    async function download(id, filename, size) {\n",
              "      if (!google.colab.kernel.accessAllowed) {\n",
              "        return;\n",
              "      }\n",
              "      const div = document.createElement('div');\n",
              "      const label = document.createElement('label');\n",
              "      label.textContent = `Downloading \"${filename}\": `;\n",
              "      div.appendChild(label);\n",
              "      const progress = document.createElement('progress');\n",
              "      progress.max = size;\n",
              "      div.appendChild(progress);\n",
              "      document.body.appendChild(div);\n",
              "\n",
              "      const buffers = [];\n",
              "      let downloaded = 0;\n",
              "\n",
              "      const channel = await google.colab.kernel.comms.open(id);\n",
              "      // Send a message to notify the kernel that we're ready.\n",
              "      channel.send({})\n",
              "\n",
              "      for await (const message of channel.messages) {\n",
              "        // Send a message to notify the kernel that we're ready.\n",
              "        channel.send({})\n",
              "        if (message.buffers) {\n",
              "          for (const buffer of message.buffers) {\n",
              "            buffers.push(buffer);\n",
              "            downloaded += buffer.byteLength;\n",
              "            progress.value = downloaded;\n",
              "          }\n",
              "        }\n",
              "      }\n",
              "      const blob = new Blob(buffers, {type: 'application/binary'});\n",
              "      const a = document.createElement('a');\n",
              "      a.href = window.URL.createObjectURL(blob);\n",
              "      a.download = filename;\n",
              "      div.appendChild(a);\n",
              "      a.click();\n",
              "      div.remove();\n",
              "    }\n",
              "  "
            ]
          },
          "metadata": {}
        },
        {
          "output_type": "display_data",
          "data": {
            "text/plain": [
              "<IPython.core.display.Javascript object>"
            ],
            "application/javascript": [
              "download(\"download_3d4f1cfa-5949-4d60-bc60-ecd9617428b9\", \"2023_commenters.csv\", 15450)"
            ]
          },
          "metadata": {}
        }
      ]
    },
    {
      "cell_type": "markdown",
      "source": [
        "# 4. create graphs"
      ],
      "metadata": {
        "id": "UWOolIYsmqpy"
      }
    },
    {
      "cell_type": "markdown",
      "source": [
        "### create a histogram"
      ],
      "metadata": {
        "id": "4WsmozTDppkD"
      }
    },
    {
      "cell_type": "code",
      "source": [
        "# create a histogram\n",
        "\n",
        "sns.histplot(unique_commenters_df.iloc[:, [2]])\n",
        "plt.xlabel('Number of unique comments', fontsize=18)\n",
        "plt.ylabel('Frequency', fontsize=18)\n",
        "plt.title(\"Histogram of number of comments for posts in \" + str(year))\n",
        "plt.grid(True)\n",
        "\n",
        "plt.show()"
      ],
      "metadata": {
        "id": "_ARvxkfUqD2S",
        "colab": {
          "base_uri": "https://localhost:8080/",
          "height": 482
        },
        "outputId": "8d538d6a-9f3f-4e05-cc75-f414fd289155"
      },
      "execution_count": 32,
      "outputs": [
        {
          "output_type": "display_data",
          "data": {
            "text/plain": [
              "<Figure size 640x480 with 1 Axes>"
            ],
            "image/png": "[encoded data removed]"
          },
          "metadata": {}
        }
      ]
    },
    {
      "cell_type": "markdown",
      "source": [
        "### create a scatterplot"
      ],
      "metadata": {
        "id": "CHJ27gucprdo"
      }
    },
    {
      "cell_type": "code",
      "source": [
        "# create a scatterplot\n",
        "\n",
        "# create data\n",
        "N = len(unique_commenters_df)                           # number of data points\n",
        "x = unique_commenters_df.iloc[:, 1]                     # date column\n",
        "y = unique_commenters_df.iloc[:, 2]                     # unique commenters column\n",
        "\n",
        "# give the x-axis 3 ticks\n",
        "ax = plt.axes()\n",
        "ax.xaxis.set_major_locator(plt.MaxNLocator(3))\n",
        "\n",
        "# plot the data\n",
        "plt.scatter(x, y)\n",
        "plt.ylabel('Number of unique comments', fontsize=18)\n",
        "plt.title(\"Time series of number of comments for posts in \" + str(year))\n",
        "\n",
        "plt.show()"
      ],
      "metadata": {
        "colab": {
          "base_uri": "https://localhost:8080/",
          "height": 452
        },
        "id": "h5_wsjBGKbBm",
        "outputId": "1e0ec1ef-eaa6-4088-89a4-6657f13a40e9"
      },
      "execution_count": 31,
      "outputs": [
        {
          "output_type": "display_data",
          "data": {
            "text/plain": [
              "<Figure size 640x480 with 1 Axes>"
            ],
            "image/png": "[encoded data removed]"
          },
          "metadata": {}
        }
      ]
    },
    {
      "cell_type": "code",
      "source": [
        "unique_commenters_df"
      ],
      "metadata": {
        "colab": {
          "base_uri": "https://localhost:8080/",
          "height": 615
        },
        "id": "7BT56cWHT-GX",
        "outputId": "10ab625b-82b8-4adb-8649-212ea7de93ae"
      },
      "execution_count": 11,
      "outputs": [
        {
          "output_type": "execute_result",
          "data": {
            "text/plain": [
              "                                            Post Title   Post Date  \\\n",
              "0               How to model a non-monotonic relation?  2023-01-01   \n",
              "1            Yo-Yo Ma (1) vs. Li Wenwen; Hill advances  2023-01-01   \n",
              "2    Challenge of expressing uncertainty in scienti...  2023-01-02   \n",
              "3    Explanation and reproducibility in data-driven...  2023-01-03   \n",
              "4    The interaction between predatory journals and...  2023-01-03   \n",
              "..                                                 ...         ...   \n",
              "504                                Uh oh Barnard . . .  2023-12-27   \n",
              "505                         Judgments versus decisions  2023-12-28   \n",
              "506  Hey wassup Detroit Pistons?  What’s gonna happ...  2023-12-29   \n",
              "507             “How not to be fooled by viral charts”  2023-12-30   \n",
              "508  The continuing challenge of poststratification...  2023-12-31   \n",
              "\n",
              "     Unique Commenters                                                URL  \n",
              "0                   13  https://statmodeling.stat.columbia.edu/2023/01...  \n",
              "1                    6  https://statmodeling.stat.columbia.edu/2023/01...  \n",
              "2                   21  https://statmodeling.stat.columbia.edu/2023/01...  \n",
              "3                   11  https://statmodeling.stat.columbia.edu/2023/01...  \n",
              "4                    7  https://statmodeling.stat.columbia.edu/2023/01...  \n",
              "..                 ...                                                ...  \n",
              "504                 11  https://statmodeling.stat.columbia.edu/2023/12...  \n",
              "505                  7  https://statmodeling.stat.columbia.edu/2023/12...  \n",
              "506                 17  https://statmodeling.stat.columbia.edu/2023/12...  \n",
              "507                  3  https://statmodeling.stat.columbia.edu/2023/12...  \n",
              "508                  9  https://statmodeling.stat.columbia.edu/2023/12...  \n",
              "\n",
              "[509 rows x 4 columns]"
            ],
            "text/html": [
              "\n",
              "  <div id=\"df-16231236-abe0-4575-bec3-59e9dfe6bc97\" class=\"colab-df-container\">\n",
              "    <div>\n",
              "<style scoped>\n",
              "    .dataframe tbody tr th:only-of-type {\n",
              "        vertical-align: middle;\n",
              "    }\n",
              "\n",
              "    .dataframe tbody tr th {\n",
              "        vertical-align: top;\n",
              "    }\n",
              "\n",
              "    .dataframe thead th {\n",
              "        text-align: right;\n",
              "    }\n",
              "</style>\n",
              "<table border=\"1\" class=\"dataframe\">\n",
              "  <thead>\n",
              "    <tr style=\"text-align: right;\">\n",
              "      <th></th>\n",
              "      <th>Post Title</th>\n",
              "      <th>Post Date</th>\n",
              "      <th>Unique Commenters</th>\n",
              "      <th>URL</th>\n",
              "    </tr>\n",
              "  </thead>\n",
              "  <tbody>\n",
              "    <tr>\n",
              "      <th>0</th>\n",
              "      <td>How to model a non-monotonic relation?</td>\n",
              "      <td>2023-01-01</td>\n",
              "      <td>13</td>\n",
              "      <td>https://statmodeling.stat.columbia.edu/2023/01...</td>\n",
              "    </tr>\n",
              "    <tr>\n",
              "      <th>1</th>\n",
              "      <td>Yo-Yo Ma (1) vs. Li Wenwen; Hill advances</td>\n",
              "      <td>2023-01-01</td>\n",
              "      <td>6</td>\n",
              "      <td>https://statmodeling.stat.columbia.edu/2023/01...</td>\n",
              "    </tr>\n",
              "    <tr>\n",
              "      <th>2</th>\n",
              "      <td>Challenge of expressing uncertainty in scienti...</td>\n",
              "      <td>2023-01-02</td>\n",
              "      <td>21</td>\n",
              "      <td>https://statmodeling.stat.columbia.edu/2023/01...</td>\n",
              "    </tr>\n",
              "    <tr>\n",
              "      <th>3</th>\n",
              "      <td>Explanation and reproducibility in data-driven...</td>\n",
              "      <td>2023-01-03</td>\n",
              "      <td>11</td>\n",
              "      <td>https://statmodeling.stat.columbia.edu/2023/01...</td>\n",
              "    </tr>\n",
              "    <tr>\n",
              "      <th>4</th>\n",
              "      <td>The interaction between predatory journals and...</td>\n",
              "      <td>2023-01-03</td>\n",
              "      <td>7</td>\n",
              "      <td>https://statmodeling.stat.columbia.edu/2023/01...</td>\n",
              "    </tr>\n",
              "    <tr>\n",
              "      <th>...</th>\n",
              "      <td>...</td>\n",
              "      <td>...</td>\n",
              "      <td>...</td>\n",
              "      <td>...</td>\n",
              "    </tr>\n",
              "    <tr>\n",
              "      <th>504</th>\n",
              "      <td>Uh oh Barnard . . .</td>\n",
              "      <td>2023-12-27</td>\n",
              "      <td>11</td>\n",
              "      <td>https://statmodeling.stat.columbia.edu/2023/12...</td>\n",
              "    </tr>\n",
              "    <tr>\n",
              "      <th>505</th>\n",
              "      <td>Judgments versus decisions</td>\n",
              "      <td>2023-12-28</td>\n",
              "      <td>7</td>\n",
              "      <td>https://statmodeling.stat.columbia.edu/2023/12...</td>\n",
              "    </tr>\n",
              "    <tr>\n",
              "      <th>506</th>\n",
              "      <td>Hey wassup Detroit Pistons?  What’s gonna happ...</td>\n",
              "      <td>2023-12-29</td>\n",
              "      <td>17</td>\n",
              "      <td>https://statmodeling.stat.columbia.edu/2023/12...</td>\n",
              "    </tr>\n",
              "    <tr>\n",
              "      <th>507</th>\n",
              "      <td>“How not to be fooled by viral charts”</td>\n",
              "      <td>2023-12-30</td>\n",
              "      <td>3</td>\n",
              "      <td>https://statmodeling.stat.columbia.edu/2023/12...</td>\n",
              "    </tr>\n",
              "    <tr>\n",
              "      <th>508</th>\n",
              "      <td>The continuing challenge of poststratification...</td>\n",
              "      <td>2023-12-31</td>\n",
              "      <td>9</td>\n",
              "      <td>https://statmodeling.stat.columbia.edu/2023/12...</td>\n",
              "    </tr>\n",
              "  </tbody>\n",
              "</table>\n",
              "<p>509 rows × 4 columns</p>\n",
              "</div>\n",
              "    <div class=\"colab-df-buttons\">\n",
              "\n",
              "  <div class=\"colab-df-container\">\n",
              "    <button class=\"colab-df-convert\" onclick=\"convertToInteractive('df-16231236-abe0-4575-bec3-59e9dfe6bc97')\"\n",
              "            title=\"Convert this dataframe to an interactive table.\"\n",
              "            style=\"display:none;\">\n",
              "\n",
              "  <svg xmlns=\"http://www.w3.org/2000/svg\" height=\"24px\" viewBox=\"0 -960 960 960\">\n",
              "    <path d=\"M120-120v-720h720v720H120Zm60-500h600v-160H180v160Zm220 220h160v-160H400v160Zm0 220h160v-160H400v160ZM180-400h160v-160H180v160Zm440 0h160v-160H620v160ZM180-180h160v-160H180v160Zm440 0h160v-160H620v160Z\"/>\n",
              "  </svg>\n",
              "    </button>\n",
              "\n",
              "  <style>\n",
              "    .colab-df-container {\n",
              "      display:flex;\n",
              "      gap: 12px;\n",
              "    }\n",
              "\n",
              "    .colab-df-convert {\n",
              "      background-color: #E8F0FE;\n",
              "      border: none;\n",
              "      border-radius: 50%;\n",
              "      cursor: pointer;\n",
              "      display: none;\n",
              "      fill: #1967D2;\n",
              "      height: 32px;\n",
              "      padding: 0 0 0 0;\n",
              "      width: 32px;\n",
              "    }\n",
              "\n",
              "    .colab-df-convert:hover {\n",
              "      background-color: #E2EBFA;\n",
              "      box-shadow: 0px 1px 2px rgba(60, 64, 67, 0.3), 0px 1px 3px 1px rgba(60, 64, 67, 0.15);\n",
              "      fill: #174EA6;\n",
              "    }\n",
              "\n",
              "    .colab-df-buttons div {\n",
              "      margin-bottom: 4px;\n",
              "    }\n",
              "\n",
              "    [theme=dark] .colab-df-convert {\n",
              "      background-color: #3B4455;\n",
              "      fill: #D2E3FC;\n",
              "    }\n",
              "\n",
              "    [theme=dark] .colab-df-convert:hover {\n",
              "      background-color: #434B5C;\n",
              "      box-shadow: 0px 1px 3px 1px rgba(0, 0, 0, 0.15);\n",
              "      filter: drop-shadow(0px 1px 2px rgba(0, 0, 0, 0.3));\n",
              "      fill: #FFFFFF;\n",
              "    }\n",
              "  </style>\n",
              "\n",
              "    <script>\n",
              "      const buttonEl =\n",
              "        document.querySelector('#df-16231236-abe0-4575-bec3-59e9dfe6bc97 button.colab-df-convert');\n",
              "      buttonEl.style.display =\n",
              "        google.colab.kernel.accessAllowed ? 'block' : 'none';\n",
              "\n",
              "      async function convertToInteractive(key) {\n",
              "        const element = document.querySelector('#df-16231236-abe0-4575-bec3-59e9dfe6bc97');\n",
              "        const dataTable =\n",
              "          await google.colab.kernel.invokeFunction('convertToInteractive',\n",
              "                                                    [key], {});\n",
              "        if (!dataTable) return;\n",
              "\n",
              "        const docLinkHtml = 'Like what you see? Visit the ' +\n",
              "          '<a target=\"_blank\" href=https://colab.research.google.com/notebooks/data_table.ipynb>data table notebook</a>'\n",
              "          + ' to learn more about interactive tables.';\n",
              "        element.innerHTML = '';\n",
              "        dataTable['output_type'] = 'display_data';\n",
              "        await google.colab.output.renderOutput(dataTable, element);\n",
              "        const docLink = document.createElement('div');\n",
              "        docLink.innerHTML = docLinkHtml;\n",
              "        element.appendChild(docLink);\n",
              "      }\n",
              "    </script>\n",
              "  </div>\n",
              "\n",
              "\n",
              "<div id=\"df-f2293fdf-c924-4767-b8bf-57cfa89b1ebe\">\n",
              "  <button class=\"colab-df-quickchart\" onclick=\"quickchart('df-f2293fdf-c924-4767-b8bf-57cfa89b1ebe')\"\n",
              "            title=\"Suggest charts\"\n",
              "            style=\"display:none;\">\n",
              "\n",
              "<svg xmlns=\"http://www.w3.org/2000/svg\" height=\"24px\"viewBox=\"0 0 24 24\"\n",
              "     width=\"24px\">\n",
              "    <g>\n",
              "        <path d=\"M19 3H5c-1.1 0-2 .9-2 2v14c0 1.1.9 2 2 2h14c1.1 0 2-.9 2-2V5c0-1.1-.9-2-2-2zM9 17H7v-7h2v7zm4 0h-2V7h2v10zm4 0h-2v-4h2v4z\"/>\n",
              "    </g>\n",
              "</svg>\n",
              "  </button>\n",
              "\n",
              "<style>\n",
              "  .colab-df-quickchart {\n",
              "      --bg-color: #E8F0FE;\n",
              "      --fill-color: #1967D2;\n",
              "      --hover-bg-color: #E2EBFA;\n",
              "      --hover-fill-color: #174EA6;\n",
              "      --disabled-fill-color: #AAA;\n",
              "      --disabled-bg-color: #DDD;\n",
              "  }\n",
              "\n",
              "  [theme=dark] .colab-df-quickchart {\n",
              "      --bg-color: #3B4455;\n",
              "      --fill-color: #D2E3FC;\n",
              "      --hover-bg-color: #434B5C;\n",
              "      --hover-fill-color: #FFFFFF;\n",
              "      --disabled-bg-color: #3B4455;\n",
              "      --disabled-fill-color: #666;\n",
              "  }\n",
              "\n",
              "  .colab-df-quickchart {\n",
              "    background-color: var(--bg-color);\n",
              "    border: none;\n",
              "    border-radius: 50%;\n",
              "    cursor: pointer;\n",
              "    display: none;\n",
              "    fill: var(--fill-color);\n",
              "    height: 32px;\n",
              "    padding: 0;\n",
              "    width: 32px;\n",
              "  }\n",
              "\n",
              "  .colab-df-quickchart:hover {\n",
              "    background-color: var(--hover-bg-color);\n",
              "    box-shadow: 0 1px 2px rgba(60, 64, 67, 0.3), 0 1px 3px 1px rgba(60, 64, 67, 0.15);\n",
              "    fill: var(--button-hover-fill-color);\n",
              "  }\n",
              "\n",
              "  .colab-df-quickchart-complete:disabled,\n",
              "  .colab-df-quickchart-complete:disabled:hover {\n",
              "    background-color: var(--disabled-bg-color);\n",
              "    fill: var(--disabled-fill-color);\n",
              "    box-shadow: none;\n",
              "  }\n",
              "\n",
              "  .colab-df-spinner {\n",
              "    border: 2px solid var(--fill-color);\n",
              "    border-color: transparent;\n",
              "    border-bottom-color: var(--fill-color);\n",
              "    animation:\n",
              "      spin 1s steps(1) infinite;\n",
              "  }\n",
              "\n",
              "  @keyframes spin {\n",
              "    0% {\n",
              "      border-color: transparent;\n",
              "      border-bottom-color: var(--fill-color);\n",
              "      border-left-color: var(--fill-color);\n",
              "    }\n",
              "    20% {\n",
              "      border-color: transparent;\n",
              "      border-left-color: var(--fill-color);\n",
              "      border-top-color: var(--fill-color);\n",
              "    }\n",
              "    30% {\n",
              "      border-color: transparent;\n",
              "      border-left-color: var(--fill-color);\n",
              "      border-top-color: var(--fill-color);\n",
              "      border-right-color: var(--fill-color);\n",
              "    }\n",
              "    40% {\n",
              "      border-color: transparent;\n",
              "      border-right-color: var(--fill-color);\n",
              "      border-top-color: var(--fill-color);\n",
              "    }\n",
              "    60% {\n",
              "      border-color: transparent;\n",
              "      border-right-color: var(--fill-color);\n",
              "    }\n",
              "    80% {\n",
              "      border-color: transparent;\n",
              "      border-right-color: var(--fill-color);\n",
              "      border-bottom-color: var(--fill-color);\n",
              "    }\n",
              "    90% {\n",
              "      border-color: transparent;\n",
              "      border-bottom-color: var(--fill-color);\n",
              "    }\n",
              "  }\n",
              "</style>\n",
              "\n",
              "  <script>\n",
              "    async function quickchart(key) {\n",
              "      const quickchartButtonEl =\n",
              "        document.querySelector('#' + key + ' button');\n",
              "      quickchartButtonEl.disabled = true;  // To prevent multiple clicks.\n",
              "      quickchartButtonEl.classList.add('colab-df-spinner');\n",
              "      try {\n",
              "        const charts = await google.colab.kernel.invokeFunction(\n",
              "            'suggestCharts', [key], {});\n",
              "      } catch (error) {\n",
              "        console.error('Error during call to suggestCharts:', error);\n",
              "      }\n",
              "      quickchartButtonEl.classList.remove('colab-df-spinner');\n",
              "      quickchartButtonEl.classList.add('colab-df-quickchart-complete');\n",
              "    }\n",
              "    (() => {\n",
              "      let quickchartButtonEl =\n",
              "        document.querySelector('#df-f2293fdf-c924-4767-b8bf-57cfa89b1ebe button');\n",
              "      quickchartButtonEl.style.display =\n",
              "        google.colab.kernel.accessAllowed ? 'block' : 'none';\n",
              "    })();\n",
              "  </script>\n",
              "</div>\n",
              "\n",
              "  <div id=\"id_4cb78b54-3cf9-4dd4-aa8e-dd144f3400e1\">\n",
              "    <style>\n",
              "      .colab-df-generate {\n",
              "        background-color: #E8F0FE;\n",
              "        border: none;\n",
              "        border-radius: 50%;\n",
              "        cursor: pointer;\n",
              "        display: none;\n",
              "        fill: #1967D2;\n",
              "        height: 32px;\n",
              "        padding: 0 0 0 0;\n",
              "        width: 32px;\n",
              "      }\n",
              "\n",
              "      .colab-df-generate:hover {\n",
              "        background-color: #E2EBFA;\n",
              "        box-shadow: 0px 1px 2px rgba(60, 64, 67, 0.3), 0px 1px 3px 1px rgba(60, 64, 67, 0.15);\n",
              "        fill: #174EA6;\n",
              "      }\n",
              "\n",
              "      [theme=dark] .colab-df-generate {\n",
              "        background-color: #3B4455;\n",
              "        fill: #D2E3FC;\n",
              "      }\n",
              "\n",
              "      [theme=dark] .colab-df-generate:hover {\n",
              "        background-color: #434B5C;\n",
              "        box-shadow: 0px 1px 3px 1px rgba(0, 0, 0, 0.15);\n",
              "        filter: drop-shadow(0px 1px 2px rgba(0, 0, 0, 0.3));\n",
              "        fill: #FFFFFF;\n",
              "      }\n",
              "    </style>\n",
              "    <button class=\"colab-df-generate\" onclick=\"generateWithVariable('unique_commenters_df')\"\n",
              "            title=\"Generate code using this dataframe.\"\n",
              "            style=\"display:none;\">\n",
              "\n",
              "  <svg xmlns=\"http://www.w3.org/2000/svg\" height=\"24px\"viewBox=\"0 0 24 24\"\n",
              "       width=\"24px\">\n",
              "    <path d=\"M7,19H8.4L18.45,9,17,7.55,7,17.6ZM5,21V16.75L18.45,3.32a2,2,0,0,1,2.83,0l1.4,1.43a1.91,1.91,0,0,1,.58,1.4,1.91,1.91,0,0,1-.58,1.4L9.25,21ZM18.45,9,17,7.55Zm-12,3A5.31,5.31,0,0,0,4.9,8.1,5.31,5.31,0,0,0,1,6.5,5.31,5.31,0,0,0,4.9,4.9,5.31,5.31,0,0,0,6.5,1,5.31,5.31,0,0,0,8.1,4.9,5.31,5.31,0,0,0,12,6.5,5.46,5.46,0,0,0,6.5,12Z\"/>\n",
              "  </svg>\n",
              "    </button>\n",
              "    <script>\n",
              "      (() => {\n",
              "      const buttonEl =\n",
              "        document.querySelector('#id_4cb78b54-3cf9-4dd4-aa8e-dd144f3400e1 button.colab-df-generate');\n",
              "      buttonEl.style.display =\n",
              "        google.colab.kernel.accessAllowed ? 'block' : 'none';\n",
              "\n",
              "      buttonEl.onclick = () => {\n",
              "        google.colab.notebook.generateWithVariable('unique_commenters_df');\n",
              "      }\n",
              "      })();\n",
              "    </script>\n",
              "  </div>\n",
              "\n",
              "    </div>\n",
              "  </div>\n"
            ]
          },
          "metadata": {},
          "execution_count": 11
        }
      ]
    },
    {
      "cell_type": "code",
      "source": [],
      "metadata": {
        "id": "4gvt9Ya7T-XP"
      },
      "execution_count": 11,
      "outputs": []
    }
  ]
}