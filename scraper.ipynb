{
  "nbformat": 4,
  "nbformat_minor": 0,
  "metadata": {
    "colab": {
      "name": "scraper.ipynb",
      "provenance": [],
      "collapsed_sections": [],
      "authorship_tag": "ABX9TyPRFVSAVm3l7u39zmoCw5m8"
    },
    "kernelspec": {
      "name": "python3",
      "display_name": "Python 3"
    },
    "language_info": {
      "name": "python"
    }
  },
  "cells": [
    {
      "cell_type": "code",
      "execution_count": 79,
      "metadata": {
        "id": "SKZO1m0aJKW2"
      },
      "outputs": [],
      "source": [
        "from datetime import date, timedelta                    # look for posts from each day\n",
        "import requests                                         # send HTTP requests to get HTML from webpages\n",
        "from bs4 import BeautifulSoup                           # search HTML from webpages\n",
        "from time import sleep                                  # give the server a pause between requests\n",
        "import pandas as pd                                     # convert data into dataframe\n",
        "from google.colab import files                          # download csv file"
      ]
    },
    {
      "cell_type": "code",
      "source": [
        "# loop through dates to create all initial urls for the last year\n",
        "dates = []\n",
        "\n",
        "# loop through urls to create array of all posts per day, for the last year\n",
        "urls_list = []"
      ],
      "metadata": {
        "id": "4VhVP18MJrIV"
      },
      "execution_count": 80,
      "outputs": []
    },
    {
      "cell_type": "code",
      "source": [
        "url = \"https://statmodeling.stat.columbia.edu/\"\n",
        "\n",
        "start_date = date(2021, 1, 1)                           # set first day of the desired time period \n",
        "end_date = date(2021, 12, 31)                           # set last day of the desired time period \n",
        "\n",
        "delta = end_date-start_date                             # 365 days\n",
        "\n",
        "for i in range(delta.days+1):                           # range(0, 365)\n",
        "  day = start_date + timedelta(days=i)                  # 2021-01-01, 2021-01-02, 2021-01-03\n",
        "  date_string = day.strftime(\"%Y/%m/%d\")                # convert to 2021/01/01, 2021/01/02, 2021/01/03\n",
        "  dates.append(date_string)\n",
        "\n",
        "for date in dates:\n",
        "  initial_url = url + date                              # https://statmodeling.stat.columbia.edu/2021/01/01\n",
        "  urls_list.append(initial_url)                         # ['https://statmodeling.stat.columbia.edu/2021/01/01, ]"
      ],
      "metadata": {
        "id": "njfY_aXiKC12"
      },
      "execution_count": 81,
      "outputs": []
    },
    {
      "cell_type": "code",
      "source": [
        "# create a dictionary to store all commenter names and counts for one post\n",
        "commenters = {}\n",
        "# create a list to store post title, post date, unique commenter count, and URL\n",
        "unique_commenters = []    \n",
        "\n",
        "def count(all_comments, title, date, url):\n",
        "  # create a dictionary that tracks unique commenters\n",
        "  unique_commenters_for_one_post = {}\n",
        "  \n",
        "  for comment in all_comments:\n",
        "    # find the commenter's name\n",
        "    commenter_name = comment.find(\"span\", {\"class\": \"fn\"}).text\n",
        "                                                        # looks inside <span class=\"fn\"><a class=\"url\" href=\"https://twitter.com/JaneSmith\" rel=\"external nofollow ugc\">Jane Smith</a></span>\n",
        "                                                        # for Jane Smith\n",
        "\n",
        "    if commenter_name in unique_commenters_for_one_post:\n",
        "      unique_commenters_for_one_post[commenter_name] += 1\n",
        "    else:\n",
        "      unique_commenters_for_one_post[commenter_name] = 1\n",
        "                                                        # { 'Jane Smith': 1, 'Jane Doe': 2, }\n",
        "\n",
        "  unique_commenters.append([\n",
        "                            title,                      # What we did in 2020, and thanks to all our collaborators and many more\n",
        "                            date,                       # 2021-01-01T09:00:09-05:00\n",
        "                            len(unique_commenters_for_one_post.keys()),\n",
        "                                                        # how many unique commenters there were on this post: 12\n",
        "                            url                         # 'https://statmodeling.stat.columbia.edu/2021/01/01/what-we-did-in-2020/#comments'\n",
        "                            ])\n",
        "\n",
        "  commenters[url] = unique_commenters_for_one_post\n",
        "  # print(commenters)\n",
        "                                                        # { {'Jane Smith': 1, 'Jane Doe': 2, } }\n",
        "\n",
        "def get_data_from_post(all_posts):\n",
        "  for post in all_posts:\n",
        "    # grab the actual link(s) for all post(s) made on one day\n",
        "    url_we_want = post.find(\"a\").get(\"href\")            # https://statmodeling.stat.columbia.edu/2021/01/01/what-we-did-in-2020/#comments              \n",
        "    \n",
        "    # grab one post's content\n",
        "    url_we_want_get = requests.get(url_we_want, headers = headers)\n",
        "    one_post_html= BeautifulSoup(url_we_want_get.text, \"html.parser\")\n",
        "\n",
        "    # grab the post's title, date, and comments\n",
        "    post_title = one_post_html.find(\"h1\", {\"class\": \"entry-title\"}).text\n",
        "                                        \n",
        "    post_date = one_post_html.find(\"time\", {\"class\": \"entry-date\"}).get(\"datetime\")[0:10]\n",
        "                                                        # 2021-01-01\n",
        "                                        \n",
        "    # find all the comment(s) for one post\n",
        "    all_comments_one_post = one_post_html.findAll(\"div\", {\"class\": \"comment-author vcard\"})\n",
        "                                                        # [<div class=\"comment-author vcard\">\n",
        "                                                        # <img alt=\"\" class=\"avatar avatar-68 photo\" height=\"68\" loading=\"lazy\" src=\"https://secure.gravatar.com/avatar/4ca887fa9f168857d43ef5eb3c636296?s=68&amp;d=mm&amp;r=g\" srcset=\"https://secure.gravatar.com/avatar/4ca887fa9f168857d43ef5eb3c636296?s=136&amp;d=mm&amp;r=g 2x\" width=\"68\"/><span class=\"fn\"><a class=\"url\" href=\"https://twitter.com/JaneSmith\" rel=\"external nofollow ugc\">Jane Smith</a></span> on <a href=\"https://statmodeling.stat.columbia.edu/2021/01/01/what-we-did-in-2020/#comment-1630101\"><time datetime=\"2021-01-01T09:16:18-05:00\">January 1, 2021 9:16 AM at 9:16 am</time></a> <span class=\"says\">said:</span>\n",
        "                                                        # </div>, <div class=\"comment-author vcard\">\n",
        "\n",
        "    count(all_comments_one_post, post_title, post_date, url_we_want)\n",
        "\n",
        "# check every day of the year with a potential post\n",
        "for url in urls_list:\n",
        "  # to avoid the error message from the site. Change if you're not using Chrome.\n",
        "  headers = {                           \n",
        "      \"user-agent\": \"Chrome/88.0.4324.182\"\n",
        "      }\n",
        "  site_get = requests.get(url, headers = headers)\n",
        "  # sleep(0.5)                                          # x-second pause between requests\n",
        "  site_html= BeautifulSoup(site_get.text, \"html.parser\")\n",
        "\n",
        "  # find the comment button(s) for all post(s) made on one day\n",
        "  all_post_urls= site_html.findAll(\"span\", {\"class\":\"comments-link\"}) \n",
        "                                                        # [<span class=\"comments-link\"><a href=\"https://statmodeling.stat.columbia.edu/2021/01/05/authors-retract-the-nature-communications-paper-on-female-mentors/#comments\"><b>15</b> Replies</a></span>, ]\n",
        "  get_data_from_post(all_post_urls)\n"
      ],
      "metadata": {
        "id": "hAqkHlvBL8Sy"
      },
      "execution_count": null,
      "outputs": []
    },
    {
      "cell_type": "code",
      "source": [
        "def convert_to_csv_and_download(dataframe, csv_file):\n",
        "  # convert to csv\n",
        "  with open(csv_file, 'w') as f:\n",
        "    dataframe.to_csv(\n",
        "      f, \n",
        "      header = True, \n",
        "      index=False\n",
        "      )\n",
        "\n",
        "  # download the csv\n",
        "  files.download(csv_file)"
      ],
      "metadata": {
        "id": "KAF6TNf5-F9o"
      },
      "execution_count": 83,
      "outputs": []
    },
    {
      "cell_type": "code",
      "source": [
        "# create first csv\n",
        "\n",
        "# convert to a pandas dataframe\n",
        "unique_commenters_df = pd.DataFrame(\n",
        "  unique_commenters, \n",
        "  columns= [\n",
        "            \"Post Title\", \n",
        "            \"Post Date\",\n",
        "            \"Unique Commenters\", \n",
        "            \"URL\"\n",
        "            ])\n",
        "\n",
        "# set the year to title your csv file\n",
        "year = 2021                             \n",
        "file_title = str(year) + '_blog.csv'\n",
        "convert_to_csv_and_download(unique_commenters_df, file_title)"
      ],
      "metadata": {
        "id": "aJmYvQg7i6nv",
        "colab": {
          "base_uri": "https://localhost:8080/",
          "height": 16
        },
        "outputId": "4edc3e91-456c-4950-f147-02ca386317c2"
      },
      "execution_count": 84,
      "outputs": [
        {
          "output_type": "display_data",
          "data": {
            "application/javascript": [
              "\n",
              "    async function download(id, filename, size) {\n",
              "      if (!google.colab.kernel.accessAllowed) {\n",
              "        return;\n",
              "      }\n",
              "      const div = document.createElement('div');\n",
              "      const label = document.createElement('label');\n",
              "      label.textContent = `Downloading \"${filename}\": `;\n",
              "      div.appendChild(label);\n",
              "      const progress = document.createElement('progress');\n",
              "      progress.max = size;\n",
              "      div.appendChild(progress);\n",
              "      document.body.appendChild(div);\n",
              "\n",
              "      const buffers = [];\n",
              "      let downloaded = 0;\n",
              "\n",
              "      const channel = await google.colab.kernel.comms.open(id);\n",
              "      // Send a message to notify the kernel that we're ready.\n",
              "      channel.send({})\n",
              "\n",
              "      for await (const message of channel.messages) {\n",
              "        // Send a message to notify the kernel that we're ready.\n",
              "        channel.send({})\n",
              "        if (message.buffers) {\n",
              "          for (const buffer of message.buffers) {\n",
              "            buffers.push(buffer);\n",
              "            downloaded += buffer.byteLength;\n",
              "            progress.value = downloaded;\n",
              "          }\n",
              "        }\n",
              "      }\n",
              "      const blob = new Blob(buffers, {type: 'application/binary'});\n",
              "      const a = document.createElement('a');\n",
              "      a.href = window.URL.createObjectURL(blob);\n",
              "      a.download = filename;\n",
              "      div.appendChild(a);\n",
              "      a.click();\n",
              "      div.remove();\n",
              "    }\n",
              "  "
            ],
            "text/plain": [
              "<IPython.core.display.Javascript object>"
            ]
          },
          "metadata": {}
        },
        {
          "output_type": "display_data",
          "data": {
            "application/javascript": [
              "download(\"download_a1904161-ef41-4912-8131-b1917e2f71ab\", \"2021_blog.csv\", 119133)"
            ],
            "text/plain": [
              "<IPython.core.display.Javascript object>"
            ]
          },
          "metadata": {}
        }
      ]
    },
    {
      "cell_type": "code",
      "source": [
        "# create a dictionary for the commenter's total response rate\n",
        "total_comments = {}\n",
        "\n",
        "# create a dictionary for the number of distinct posts the commenter wrote on\n",
        "unique_posts = {}\n",
        "\n",
        "all_commenters = []\n",
        "\n",
        "for commenters_dict in commenters.values():\n",
        "  for commenter in commenters_dict.keys():\n",
        "\n",
        "    # { 'Jane Smith': 286, 'Jane Doe': 1089, }\n",
        "    if commenter in total_comments:\n",
        "        total_comments[commenter] += commenters_dict[commenter]\n",
        "    else:\n",
        "        total_comments[commenter] = commenters_dict[commenter]\n",
        "\n",
        "    # { 'Jane Smith': 88, 'Jane Doe': 162, }\n",
        "    if commenter in unique_posts:\n",
        "        unique_posts[commenter] += 1\n",
        "    else:\n",
        "        unique_posts[commenter] = 1\n",
        "\n",
        "for commenter in total_comments.keys():\n",
        "  all_commenters.append([\n",
        "                      commenter,                        # Jane Smith\n",
        "                      total_comments[commenter],        # 286\n",
        "                      unique_posts[commenter]           # 88\n",
        "                      ])"
      ],
      "metadata": {
        "id": "YwgnRbfKkTpN"
      },
      "execution_count": 85,
      "outputs": []
    },
    {
      "cell_type": "code",
      "source": [
        "# create second csv\n",
        "\n",
        "# convert to a pandas dataframe\n",
        "commenters_df = pd.DataFrame(\n",
        "  all_commenters, \n",
        "  columns= [\n",
        "            \"Commenter\", \n",
        "            \"Total Response Rate\",\n",
        "            \"Number of Posts\"\n",
        "            ])\n",
        "\n",
        "# set the year to title your csv file\n",
        "csv_file = str(year) + '_commenters.csv'\n",
        "\n",
        "convert_to_csv_and_download(commenters_df, file_title)"
      ],
      "metadata": {
        "colab": {
          "base_uri": "https://localhost:8080/",
          "height": 16
        },
        "id": "do0TL-0pmLx0",
        "outputId": "124932bc-b82d-47d0-83f5-a416845e0ebe"
      },
      "execution_count": 86,
      "outputs": [
        {
          "output_type": "display_data",
          "data": {
            "application/javascript": [
              "\n",
              "    async function download(id, filename, size) {\n",
              "      if (!google.colab.kernel.accessAllowed) {\n",
              "        return;\n",
              "      }\n",
              "      const div = document.createElement('div');\n",
              "      const label = document.createElement('label');\n",
              "      label.textContent = `Downloading \"${filename}\": `;\n",
              "      div.appendChild(label);\n",
              "      const progress = document.createElement('progress');\n",
              "      progress.max = size;\n",
              "      div.appendChild(progress);\n",
              "      document.body.appendChild(div);\n",
              "\n",
              "      const buffers = [];\n",
              "      let downloaded = 0;\n",
              "\n",
              "      const channel = await google.colab.kernel.comms.open(id);\n",
              "      // Send a message to notify the kernel that we're ready.\n",
              "      channel.send({})\n",
              "\n",
              "      for await (const message of channel.messages) {\n",
              "        // Send a message to notify the kernel that we're ready.\n",
              "        channel.send({})\n",
              "        if (message.buffers) {\n",
              "          for (const buffer of message.buffers) {\n",
              "            buffers.push(buffer);\n",
              "            downloaded += buffer.byteLength;\n",
              "            progress.value = downloaded;\n",
              "          }\n",
              "        }\n",
              "      }\n",
              "      const blob = new Blob(buffers, {type: 'application/binary'});\n",
              "      const a = document.createElement('a');\n",
              "      a.href = window.URL.createObjectURL(blob);\n",
              "      a.download = filename;\n",
              "      div.appendChild(a);\n",
              "      a.click();\n",
              "      div.remove();\n",
              "    }\n",
              "  "
            ],
            "text/plain": [
              "<IPython.core.display.Javascript object>"
            ]
          },
          "metadata": {}
        },
        {
          "output_type": "display_data",
          "data": {
            "application/javascript": [
              "download(\"download_bcc73adb-2d93-46b1-a362-c3fe63f6337b\", \"2021_blog.csv\", 21902)"
            ],
            "text/plain": [
              "<IPython.core.display.Javascript object>"
            ]
          },
          "metadata": {}
        }
      ]
    },
    {
      "cell_type": "code",
      "source": [
        "# create a histogram\n",
        "\n",
        "import matplotlib.pyplot as plt\n",
        "import seaborn as sns\n",
        "\n",
        "sns.histplot(unique_commenters_df.iloc[:, [2]])\n",
        "plt.xlabel('Number of unique comments', fontsize=18)\n",
        "plt.ylabel('Frequency', fontsize=18)\n",
        "plt.title(\"Histogram of number of comments for posts in \" + str(year))\n",
        "plt.grid(True)\n",
        "\n",
        "plt.show()"
      ],
      "metadata": {
        "id": "_ARvxkfUqD2S",
        "colab": {
          "base_uri": "https://localhost:8080/",
          "height": 303
        },
        "outputId": "51b7e4e3-01b0-4510-9110-ae227f9295b8"
      },
      "execution_count": 87,
      "outputs": [
        {
          "output_type": "display_data",
          "data": {
            "image/png": "[encoded data removed]",
            "text/plain": [
              "<Figure size 432x288 with 1 Axes>"
            ]
          },
          "metadata": {
            "needs_background": "light"
          }
        }
      ]
    },
    {
      "cell_type": "code",
      "source": [
        "# create a scatterplot\n",
        "\n",
        "import numpy as np\n",
        "\n",
        "# create data\n",
        "N = len(unique_commenters_df)                           # number of data points\n",
        "x = unique_commenters_df.iloc[:, 1]                     # date column\n",
        "y = unique_commenters_df.iloc[:, 2]                     # unique commenters column\n",
        "\n",
        "# give the x-axis 3 ticks\n",
        "ax = plt.axes()\n",
        "ax.xaxis.set_major_locator(plt.MaxNLocator(3))\n",
        "\n",
        "# plot the data\n",
        "plt.scatter(x, y)\n",
        "plt.ylabel('Number of unique comments', fontsize=18)\n",
        "plt.title(\"Time series of number of comments for posts in \" + str(year))\n",
        "\n",
        "plt.show()"
      ],
      "metadata": {
        "colab": {
          "base_uri": "https://localhost:8080/",
          "height": 294
        },
        "id": "h5_wsjBGKbBm",
        "outputId": "9a885584-a90d-41ed-f305-b6beb10b135c"
      },
      "execution_count": 88,
      "outputs": [
        {
          "output_type": "display_data",
          "data": {
            "image/png": "[encoded data removed]",
            "text/plain": [
              "<Figure size 432x288 with 1 Axes>"
            ]
          },
          "metadata": {
            "needs_background": "light"
          }
        }
      ]
    }
  ]
}