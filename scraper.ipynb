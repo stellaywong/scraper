{
  "nbformat": 4,
  "nbformat_minor": 0,
  "metadata": {
    "colab": {
      "name": "scraper.ipynb",
      "provenance": [],
      "collapsed_sections": [],
      "authorship_tag": "ABX9TyPVFpVwbHQje0x40ULYavN1"
    },
    "kernelspec": {
      "name": "python3",
      "display_name": "Python 3"
    },
    "language_info": {
      "name": "python"
    }
  },
  "cells": [
    {
      "cell_type": "code",
      "execution_count": null,
      "metadata": {
        "id": "SKZO1m0aJKW2"
      },
      "outputs": [],
      "source": [
        "from datetime import date, timedelta    # look for posts from each day\n",
        "import requests                         # send HTTP requests to get HTML from webpages\n",
        "from bs4 import BeautifulSoup           # search HTML from webpages\n",
        "from time import sleep                  # give the server a pause between requests\n",
        "import pandas as pd                     # convert data into dataframe"
      ]
    },
    {
      "cell_type": "code",
      "source": [
        "# loop through dates to create all initial urls for the last year\n",
        "dates = []\n",
        "\n",
        "# loop through urls to create array of all posts per day, for the last year\n",
        "urls_list = []"
      ],
      "metadata": {
        "id": "4VhVP18MJrIV"
      },
      "execution_count": null,
      "outputs": []
    },
    {
      "cell_type": "code",
      "source": [
        "url = \"https://statmodeling.stat.columbia.edu/\"\n",
        "\n",
        "\n",
        "# start_date = date(2021, 1, 1)           # set first day of the desired time period \n",
        "# end_date = date(2022, 1, 1)             # set last day of the desired time period \n",
        "\n",
        "delta = end_date-start_date             # 365 days\n",
        "\n",
        "for i in range(delta.days+1):           # range(0, 365)\n",
        "  day = start_date + timedelta(days=i)  # 2021-01-01, 2021-01-02, 2021-01-03\n",
        "  date_string = day.strftime(\"%Y/%m/%d\")# convert to 2021/01/01, 2021/01/02, 2021/01/03\n",
        "  dates.append(date_string)\n",
        "\n",
        "for date in dates:\n",
        "  initial_url = url + date              # https://statmodeling.stat.columbia.edu/2021/01/01\n",
        "  url_list.append(initial_url)          # ['https://statmodeling.stat.columbia.edu/2021/01/01, ]"
      ],
      "metadata": {
        "id": "njfY_aXiKC12"
      },
      "execution_count": null,
      "outputs": []
    },
    {
      "cell_type": "code",
      "source": [
        "commenters = {}                         # grab all commenters names and counts for one post\n",
        "unique_commenters = []                  # create one csv of URL, blog title, blog date, and unique comment count\n",
        "\n",
        "for url in urls_list:\n",
        "  # grab all post(s) from one day\n",
        "  headers = {                           # to avoid the error message from the site\n",
        "      \"user-agent\": \"Chrome/88.0.4324.182\"\n",
        "      }\n",
        "  site_get = requests.get(url, headers = headers)\n",
        "  sleep(0.5)                            # 1-second pause between requests\n",
        "  site_html= BeautifulSoup(site_get.text, \"html.parser\")\n",
        "\n",
        "  # find the comment button(s) for all post(s) made on that day\n",
        "  all_post_urls= site_html.findAll(\"span\", {\"class\":\"comments-link\"}) \n",
        "                                        # [<span class=\"comments-link\"><a href=\"https://statmodeling.stat.columbia.edu/2021/01/05/authors-retract-the-nature-communications-paper-on-female-mentors/#comments\"><b>15</b> Replies</a></span>, ]\n",
        "\n",
        "  for post in all_post_urls:\n",
        "\n",
        "    # find all post link(s) on that day\n",
        "    # one url that holds all the comments for one post\n",
        "    url_we_want = post.find(\"a\").get(\"href\")                          \n",
        "                                        # https://statmodeling.stat.columbia.edu/2021/01/01/what-we-did-in-2020/#comments\n",
        "    \n",
        "    # grab the single post content\n",
        "    url_we_want_get = requests.get(url_we_want, headers = headers)\n",
        "    # sleep(1)                            # 1-second pause between requests\n",
        "    one_post_html= BeautifulSoup(url_we_want_get.text, \"html.parser\")\n",
        "\n",
        "    post_title = one_post_html.find(\"h1\", {\"class\": \"entry-title\"}).text\n",
        "                                        \n",
        "    post_date = one_post_html.find(\"time\", {\"class\": \"entry-date\"}).get(\"datetime\")\n",
        "                                        \n",
        "    # find all the comment(s) for one post\n",
        "    all_comments_one_post = one_post_html.findAll(\"div\", {\"class\": \"comment-author vcard\"})\n",
        "                                        # [<div class=\"comment-author vcard\">\n",
        "                                        # <img alt=\"\" class=\"avatar avatar-68 photo\" height=\"68\" loading=\"lazy\" src=\"https://secure.gravatar.com/avatar/4ca887fa9f168857d43ef5eb3c636296?s=68&amp;d=mm&amp;r=g\" srcset=\"https://secure.gravatar.com/avatar/4ca887fa9f168857d43ef5eb3c636296?s=136&amp;d=mm&amp;r=g 2x\" width=\"68\"/><span class=\"fn\"><a class=\"url\" href=\"https://twitter.com/JaneSmith\" rel=\"external nofollow ugc\">Jane Smith</a></span> on <a href=\"https://statmodeling.stat.columbia.edu/2021/01/01/what-we-did-in-2020/#comment-1630101\"><time datetime=\"2021-01-01T09:16:18-05:00\">January 1, 2021 9:16 AM at 9:16 am</time></a> <span class=\"says\">said:</span>\n",
        "                                        # </div>, <div class=\"comment-author vcard\">\n",
        "\n",
        "    # create a python dictionary that tracks unique commenters\n",
        "    unique_commenters_for_one_post = {}\n",
        "\n",
        "    for comment in all_comments_one_post:\n",
        "      # find the commenter's name\n",
        "      commenter_name = comment.find(\"span\", {\"class\": \"fn\"}).text\n",
        "                                        # looks inside <span class=\"fn\"><a class=\"url\" href=\"https://twitter.com/JaneSmith\" rel=\"external nofollow ugc\">Jane Smith</a></span>\n",
        "                                        # for Jane Smith\n",
        "\n",
        "      if commenter_name in unique_commenters_for_one_post:\n",
        "        unique_commenters_for_one_post[commenter_name] += 1\n",
        "      else:\n",
        "        unique_commenters_for_one_post[commenter_name] = 1\n",
        "                                        # { 'Jane Smith': 1, 'Jane Doe': 2, }\n",
        "\n",
        "    unique_commenters.append([\n",
        "                              post_title,\n",
        "                                        # What we did in 2020, and thanks to all our collaborators and many more\n",
        "                              post_date,\n",
        "                                        # 2021-01-01T09:00:09-05:00\n",
        "                              len(unique_commenters_for_one_post.keys()),\n",
        "                                        # how many unique commenters there were on this post: 12\n",
        "                              url_we_want     \n",
        "                                        # 'https://statmodeling.stat.columbia.edu/2021/01/01/what-we-did-in-2020/#comments'\n",
        "                              ])\n",
        "\n",
        "    commenters[url_we_want] = unique_commenters_for_one_post\n",
        "                                        # { {'Jane Smith': 1, 'Jane Doe': 2, } }"
      ],
      "metadata": {
        "id": "hAqkHlvBL8Sy"
      },
      "execution_count": null,
      "outputs": []
    },
    {
      "cell_type": "code",
      "source": [
        "from google.colab import files\n",
        "\n",
        "# convert to a pandas dataframe\n",
        "unique_commenters_df = pd.DataFrame(\n",
        "  unique_commenters, \n",
        "  columns= [\n",
        "            \"Post Title\", \n",
        "            \"Post Date\",\n",
        "            \"Unique Commenters\", \n",
        "            \"URL\"\n",
        "            ])\n",
        "\n",
        "year = 2021                             # set the year to title your csv file\n",
        "csv_file = str(year) + '_blog.csv'\n",
        "\n",
        "# convert to csv\n",
        "with open(csv_file, 'w') as f:\n",
        "  unique_commenters_df.to_csv(\n",
        "    f, \n",
        "    header = True, \n",
        "    index=False\n",
        "    )\n",
        "\n",
        "# download the csv\n",
        "files.download(csv_file)"
      ],
      "metadata": {
        "colab": {
          "base_uri": "https://localhost:8080/",
          "height": 16
        },
        "id": "aJmYvQg7i6nv",
        "outputId": "c837d9cf-beb5-4f49-89f4-8efa2feee479"
      },
      "execution_count": null,
      "outputs": [
        {
          "output_type": "display_data",
          "data": {
            "application/javascript": [
              "\n",
              "    async function download(id, filename, size) {\n",
              "      if (!google.colab.kernel.accessAllowed) {\n",
              "        return;\n",
              "      }\n",
              "      const div = document.createElement('div');\n",
              "      const label = document.createElement('label');\n",
              "      label.textContent = `Downloading \"${filename}\": `;\n",
              "      div.appendChild(label);\n",
              "      const progress = document.createElement('progress');\n",
              "      progress.max = size;\n",
              "      div.appendChild(progress);\n",
              "      document.body.appendChild(div);\n",
              "\n",
              "      const buffers = [];\n",
              "      let downloaded = 0;\n",
              "\n",
              "      const channel = await google.colab.kernel.comms.open(id);\n",
              "      // Send a message to notify the kernel that we're ready.\n",
              "      channel.send({})\n",
              "\n",
              "      for await (const message of channel.messages) {\n",
              "        // Send a message to notify the kernel that we're ready.\n",
              "        channel.send({})\n",
              "        if (message.buffers) {\n",
              "          for (const buffer of message.buffers) {\n",
              "            buffers.push(buffer);\n",
              "            downloaded += buffer.byteLength;\n",
              "            progress.value = downloaded;\n",
              "          }\n",
              "        }\n",
              "      }\n",
              "      const blob = new Blob(buffers, {type: 'application/binary'});\n",
              "      const a = document.createElement('a');\n",
              "      a.href = window.URL.createObjectURL(blob);\n",
              "      a.download = filename;\n",
              "      div.appendChild(a);\n",
              "      a.click();\n",
              "      div.remove();\n",
              "    }\n",
              "  "
            ],
            "text/plain": [
              "<IPython.core.display.Javascript object>"
            ]
          },
          "metadata": {}
        },
        {
          "output_type": "display_data",
          "data": {
            "application/javascript": [
              "download(\"download_08f2653a-96f3-48e9-9ad0-273ade46fd4b\", \"2021_blog.csv\", 127608)"
            ],
            "text/plain": [
              "<IPython.core.display.Javascript object>"
            ]
          },
          "metadata": {}
        }
      ]
    }
  ]
}